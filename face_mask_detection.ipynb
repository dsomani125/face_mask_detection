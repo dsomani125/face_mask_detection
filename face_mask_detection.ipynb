{
 "cells": [
  {
   "cell_type": "code",
   "execution_count": 22,
   "metadata": {},
   "outputs": [],
   "source": [
    "import tensorflow as tf\n",
    "from tensorflow import keras\n",
    "from tensorflow.keras.models import Sequential\n",
    "from tensorflow.keras.layers import Dense,Flatten,AveragePooling2D,Dropout,Conv2D\n",
    "from tensorflow.keras.preprocessing.image import ImageDataGenerator\n",
    "import os\n",
    "import numpy as np\n",
    "import pandas as pd"
   ]
  },
  {
   "cell_type": "code",
   "execution_count": 23,
   "metadata": {},
   "outputs": [],
   "source": [
    "train_dir = 'dataset'"
   ]
  },
  {
   "cell_type": "code",
   "execution_count": 24,
   "metadata": {},
   "outputs": [],
   "source": [
    "train_datagen = ImageDataGenerator(rescale = 1./255,\n",
    "                                  shear_range = 0.2,\n",
    "                                  zoom_range=0.2,\n",
    "                                  horizontal_flip=True,\n",
    "                                  validation_split=0.2)\n"
   ]
  },
  {
   "cell_type": "code",
   "execution_count": 25,
   "metadata": {},
   "outputs": [
    {
     "name": "stdout",
     "output_type": "stream",
     "text": [
      "Found 3067 images belonging to 2 classes.\n",
      "Found 766 images belonging to 2 classes.\n"
     ]
    }
   ],
   "source": [
    "train_generator = train_datagen.flow_from_directory(train_dir,\n",
    "                                                target_size=(64,64),\n",
    "                                                batch_size=32,\n",
    "                                                class_mode='binary',\n",
    "                                                subset='training')\n",
    "\n",
    "validation_generator = train_datagen.flow_from_directory(\n",
    "        train_dir,\n",
    "        target_size=(64,64),\n",
    "        batch_size=32,\n",
    "        class_mode='binary',\n",
    "        subset='validation')"
   ]
  },
  {
   "cell_type": "code",
   "execution_count": 26,
   "metadata": {},
   "outputs": [],
   "source": [
    "model = Sequential()"
   ]
  },
  {
   "cell_type": "code",
   "execution_count": 27,
   "metadata": {},
   "outputs": [],
   "source": [
    "model.add(Conv2D(128 , kernel_size=(3,3) , activation='relu' , input_shape=(64,64,3)))\n",
    "model.add(AveragePooling2D(pool_size=(2,2)))\n",
    "model.add(Dropout(0.25))"
   ]
  },
  {
   "cell_type": "code",
   "execution_count": 28,
   "metadata": {},
   "outputs": [],
   "source": [
    "model.add(Conv2D(128, kernel_size=(3, 3), activation='relu'))\n",
    "model.add(AveragePooling2D(pool_size=(2, 2)))"
   ]
  },
  {
   "cell_type": "code",
   "execution_count": 29,
   "metadata": {},
   "outputs": [],
   "source": [
    "model.add(Dropout(0.25))"
   ]
  },
  {
   "cell_type": "code",
   "execution_count": 30,
   "metadata": {},
   "outputs": [],
   "source": [
    "model.add(Flatten())\n",
    "model.add(Dense(1024, activation='relu'))\n",
    "model.add(Dropout(0.5))\n",
    "model.add(Dense(1, activation='sigmoid'))"
   ]
  },
  {
   "cell_type": "code",
   "execution_count": 31,
   "metadata": {},
   "outputs": [
    {
     "name": "stdout",
     "output_type": "stream",
     "text": [
      "WARNING:tensorflow:From C:\\Users\\Deepanshu Somani\\anaconda3\\lib\\site-packages\\tensorflow\\python\\ops\\nn_impl.py:180: add_dispatch_support.<locals>.wrapper (from tensorflow.python.ops.array_ops) is deprecated and will be removed in a future version.\n",
      "Instructions for updating:\n",
      "Use tf.where in 2.0, which has the same broadcast rule as np.where\n"
     ]
    }
   ],
   "source": [
    "model.compile(loss='binary_crossentropy',optimizer='adam', metrics=['accuracy'])"
   ]
  },
  {
   "cell_type": "code",
   "execution_count": 32,
   "metadata": {},
   "outputs": [
    {
     "name": "stdout",
     "output_type": "stream",
     "text": [
      "Epoch 1/45\n",
      "14/95 [===>..........................] - ETA: 45s - loss: 0.8167 - acc: 0.5781"
     ]
    },
    {
     "name": "stderr",
     "output_type": "stream",
     "text": [
      "C:\\Users\\Deepanshu Somani\\anaconda3\\lib\\site-packages\\PIL\\Image.py:932: UserWarning: Palette images with Transparency expressed in bytes should be converted to RGBA images\n",
      "  \"Palette images with Transparency expressed in bytes should be \"\n"
     ]
    },
    {
     "name": "stdout",
     "output_type": "stream",
     "text": [
      "95/95 [==============================] - 63s 663ms/step - loss: 0.3860 - acc: 0.8320 - val_loss: 0.1767 - val_acc: 0.9239\n",
      "Epoch 2/45\n",
      "95/95 [==============================] - 24s 257ms/step - loss: 0.2218 - acc: 0.9189 - val_loss: 0.1245 - val_acc: 0.9592\n",
      "Epoch 3/45\n",
      "95/95 [==============================] - 24s 257ms/step - loss: 0.2419 - acc: 0.9074 - val_loss: 0.1788 - val_acc: 0.9348\n",
      "Epoch 4/45\n",
      "95/95 [==============================] - 25s 259ms/step - loss: 0.1872 - acc: 0.9269 - val_loss: 0.0954 - val_acc: 0.9606\n",
      "Epoch 5/45\n",
      "95/95 [==============================] - 25s 263ms/step - loss: 0.1716 - acc: 0.9348 - val_loss: 0.0959 - val_acc: 0.9592\n",
      "Epoch 6/45\n",
      "95/95 [==============================] - 24s 250ms/step - loss: 0.1657 - acc: 0.9371 - val_loss: 0.0932 - val_acc: 0.9688\n",
      "Epoch 7/45\n",
      "95/95 [==============================] - 25s 261ms/step - loss: 0.1538 - acc: 0.9423 - val_loss: 0.0852 - val_acc: 0.9769\n",
      "Epoch 8/45\n",
      "95/95 [==============================] - 24s 251ms/step - loss: 0.1366 - acc: 0.9486 - val_loss: 0.0977 - val_acc: 0.9688\n",
      "Epoch 9/45\n",
      "95/95 [==============================] - 24s 255ms/step - loss: 0.1332 - acc: 0.9479 - val_loss: 0.0789 - val_acc: 0.9728\n",
      "Epoch 10/45\n",
      "95/95 [==============================] - 24s 249ms/step - loss: 0.1272 - acc: 0.9526 - val_loss: 0.0969 - val_acc: 0.9701\n",
      "Epoch 11/45\n",
      "95/95 [==============================] - 25s 258ms/step - loss: 0.1179 - acc: 0.9578 - val_loss: 0.0626 - val_acc: 0.9783\n",
      "Epoch 12/45\n",
      "95/95 [==============================] - 23s 240ms/step - loss: 0.1128 - acc: 0.9601 - val_loss: 0.0631 - val_acc: 0.9755\n",
      "Epoch 13/45\n",
      "95/95 [==============================] - 23s 245ms/step - loss: 0.1109 - acc: 0.9585 - val_loss: 0.1566 - val_acc: 0.9402\n",
      "Epoch 14/45\n",
      "95/95 [==============================] - 24s 250ms/step - loss: 0.1155 - acc: 0.9575 - val_loss: 0.0621 - val_acc: 0.9796\n",
      "Epoch 15/45\n",
      "95/95 [==============================] - 23s 246ms/step - loss: 0.1024 - acc: 0.9605 - val_loss: 0.0781 - val_acc: 0.9783\n",
      "Epoch 16/45\n",
      "95/95 [==============================] - 23s 237ms/step - loss: 0.0896 - acc: 0.9667 - val_loss: 0.0657 - val_acc: 0.9769\n",
      "Epoch 17/45\n",
      "95/95 [==============================] - 24s 256ms/step - loss: 0.1054 - acc: 0.9588 - val_loss: 0.1615 - val_acc: 0.9307\n",
      "Epoch 18/45\n",
      "95/95 [==============================] - 23s 237ms/step - loss: 0.0844 - acc: 0.9677 - val_loss: 0.0928 - val_acc: 0.9796\n",
      "Epoch 19/45\n",
      "95/95 [==============================] - 24s 251ms/step - loss: 0.0773 - acc: 0.9743 - val_loss: 0.1999 - val_acc: 0.9633\n",
      "Epoch 20/45\n",
      "95/95 [==============================] - 24s 253ms/step - loss: 0.0730 - acc: 0.9733 - val_loss: 0.1043 - val_acc: 0.9620\n",
      "Epoch 21/45\n",
      "95/95 [==============================] - 22s 236ms/step - loss: 0.0662 - acc: 0.9766 - val_loss: 0.0779 - val_acc: 0.9742\n",
      "Epoch 22/45\n",
      "95/95 [==============================] - 23s 244ms/step - loss: 0.0595 - acc: 0.9759 - val_loss: 0.0782 - val_acc: 0.9810\n",
      "Epoch 23/45\n",
      "95/95 [==============================] - 24s 256ms/step - loss: 0.0608 - acc: 0.9799 - val_loss: 0.0820 - val_acc: 0.9742\n",
      "Epoch 24/45\n",
      "95/95 [==============================] - 24s 251ms/step - loss: 0.0529 - acc: 0.9799 - val_loss: 0.0625 - val_acc: 0.9810\n",
      "Epoch 25/45\n",
      "95/95 [==============================] - 24s 250ms/step - loss: 0.0528 - acc: 0.9789 - val_loss: 0.0699 - val_acc: 0.9769\n",
      "Epoch 26/45\n",
      "95/95 [==============================] - 24s 248ms/step - loss: 0.0662 - acc: 0.9753 - val_loss: 0.0877 - val_acc: 0.9728\n",
      "Epoch 27/45\n",
      "95/95 [==============================] - 24s 247ms/step - loss: 0.0597 - acc: 0.9796 - val_loss: 0.0754 - val_acc: 0.9796\n",
      "Epoch 28/45\n",
      "95/95 [==============================] - 25s 261ms/step - loss: 0.0418 - acc: 0.9836 - val_loss: 0.0532 - val_acc: 0.9823\n",
      "Epoch 29/45\n",
      "95/95 [==============================] - 22s 230ms/step - loss: 0.0579 - acc: 0.9786 - val_loss: 0.1119 - val_acc: 0.9755\n",
      "Epoch 30/45\n",
      "95/95 [==============================] - 25s 263ms/step - loss: 0.0561 - acc: 0.9795 - val_loss: 0.0852 - val_acc: 0.9769\n",
      "Epoch 31/45\n",
      "95/95 [==============================] - 27s 288ms/step - loss: 0.0366 - acc: 0.9871 - val_loss: 0.0910 - val_acc: 0.9810\n",
      "Epoch 32/45\n",
      "95/95 [==============================] - 25s 265ms/step - loss: 0.0474 - acc: 0.9829 - val_loss: 0.0932 - val_acc: 0.9783\n",
      "Epoch 33/45\n",
      "95/95 [==============================] - 24s 253ms/step - loss: 0.0387 - acc: 0.9871 - val_loss: 0.1095 - val_acc: 0.9796\n",
      "Epoch 34/45\n",
      "95/95 [==============================] - 24s 253ms/step - loss: 0.0312 - acc: 0.9901 - val_loss: 0.1180 - val_acc: 0.9755\n",
      "Epoch 35/45\n",
      "95/95 [==============================] - 23s 243ms/step - loss: 0.0377 - acc: 0.9871 - val_loss: 0.0790 - val_acc: 0.9810\n",
      "Epoch 36/45\n",
      "95/95 [==============================] - 23s 247ms/step - loss: 0.0481 - acc: 0.9848 - val_loss: 0.0791 - val_acc: 0.9783\n",
      "Epoch 37/45\n",
      "95/95 [==============================] - 24s 249ms/step - loss: 0.0410 - acc: 0.9872 - val_loss: 0.0648 - val_acc: 0.9851\n",
      "Epoch 38/45\n",
      "95/95 [==============================] - 25s 261ms/step - loss: 0.0523 - acc: 0.9815 - val_loss: 0.1018 - val_acc: 0.9755\n",
      "Epoch 39/45\n",
      "95/95 [==============================] - 24s 254ms/step - loss: 0.0230 - acc: 0.9918 - val_loss: 0.0918 - val_acc: 0.9769\n",
      "Epoch 40/45\n",
      "95/95 [==============================] - 24s 252ms/step - loss: 0.0360 - acc: 0.9868 - val_loss: 0.1048 - val_acc: 0.9783\n",
      "Epoch 41/45\n",
      "95/95 [==============================] - 23s 247ms/step - loss: 0.0305 - acc: 0.9891 - val_loss: 0.0823 - val_acc: 0.9769\n",
      "Epoch 42/45\n",
      "95/95 [==============================] - 25s 264ms/step - loss: 0.0193 - acc: 0.9924 - val_loss: 0.1710 - val_acc: 0.9715\n",
      "Epoch 43/45\n",
      "95/95 [==============================] - 26s 275ms/step - loss: 0.0397 - acc: 0.9858 - val_loss: 0.0709 - val_acc: 0.9783\n",
      "Epoch 44/45\n",
      "95/95 [==============================] - 24s 249ms/step - loss: 0.0236 - acc: 0.9911 - val_loss: 0.0788 - val_acc: 0.9796\n",
      "Epoch 45/45\n",
      "95/95 [==============================] - 27s 281ms/step - loss: 0.0385 - acc: 0.9855 - val_loss: 0.1285 - val_acc: 0.9742\n"
     ]
    }
   ],
   "source": [
    "batch_size = 32\n",
    "model_info = model.fit_generator(train_generator,\n",
    "                                steps_per_epoch = train_generator.samples // batch_size,\n",
    "                                validation_data = validation_generator,\n",
    "                                validation_steps = validation_generator.samples // batch_size,\n",
    "                                epochs=45)"
   ]
  },
  {
   "cell_type": "code",
   "execution_count": 33,
   "metadata": {},
   "outputs": [],
   "source": [
    "model.save_weights('face_detection.h5')"
   ]
  },
  {
   "cell_type": "code",
   "execution_count": 34,
   "metadata": {},
   "outputs": [
    {
     "name": "stderr",
     "output_type": "stream",
     "text": [
      "Using TensorFlow backend.\n"
     ]
    },
    {
     "ename": "NameError",
     "evalue": "name 'training_set' is not defined",
     "output_type": "error",
     "traceback": [
      "\u001b[1;31m---------------------------------------------------------------------------\u001b[0m",
      "\u001b[1;31mNameError\u001b[0m                                 Traceback (most recent call last)",
      "\u001b[1;32m<ipython-input-34-4e521d988618>\u001b[0m in \u001b[0;36m<module>\u001b[1;34m\u001b[0m\n\u001b[0;32m      4\u001b[0m \u001b[0mtest_image\u001b[0m \u001b[1;33m=\u001b[0m \u001b[0mnp\u001b[0m\u001b[1;33m.\u001b[0m\u001b[0mexpand_dims\u001b[0m\u001b[1;33m(\u001b[0m\u001b[0mtest_image\u001b[0m \u001b[1;33m,\u001b[0m \u001b[0maxis\u001b[0m \u001b[1;33m=\u001b[0m \u001b[1;36m0\u001b[0m\u001b[1;33m)\u001b[0m\u001b[1;33m\u001b[0m\u001b[1;33m\u001b[0m\u001b[0m\n\u001b[0;32m      5\u001b[0m \u001b[0mresult\u001b[0m \u001b[1;33m=\u001b[0m \u001b[0mmodel\u001b[0m\u001b[1;33m.\u001b[0m\u001b[0mpredict\u001b[0m\u001b[1;33m(\u001b[0m\u001b[0mtest_image\u001b[0m\u001b[1;33m)\u001b[0m\u001b[1;33m\u001b[0m\u001b[1;33m\u001b[0m\u001b[0m\n\u001b[1;32m----> 6\u001b[1;33m \u001b[0mtraining_set\u001b[0m\u001b[1;33m.\u001b[0m\u001b[0mclass_indices\u001b[0m\u001b[1;33m\u001b[0m\u001b[1;33m\u001b[0m\u001b[0m\n\u001b[0m\u001b[0;32m      7\u001b[0m \u001b[1;31m#if result[0][0]==\u001b[0m\u001b[1;33m\u001b[0m\u001b[1;33m\u001b[0m\u001b[1;33m\u001b[0m\u001b[0m\n",
      "\u001b[1;31mNameError\u001b[0m: name 'training_set' is not defined"
     ]
    }
   ],
   "source": [
    "from keras.preprocessing import image\n",
    "test_image = image.load_img('dataset/test_image1.jpg' , target_size=(64,64))\n",
    "test_image = image.img_to_array(test_image)\n",
    "test_image = np.expand_dims(test_image , axis = 0)\n",
    "result = model.predict(test_image)\n",
    "training_set.class_indices\n",
    "#if result[0][0]=="
   ]
  },
  {
   "cell_type": "code",
   "execution_count": 64,
   "metadata": {},
   "outputs": [
    {
     "name": "stdout",
     "output_type": "stream",
     "text": [
      "with_mask\n"
     ]
    }
   ],
   "source": [
    "if result[0][0]==0:\n",
    "    print(\"with_mask\")\n",
    "else:\n",
    "    print('without_mask')\n",
    "    "
   ]
  },
  {
   "cell_type": "code",
   "execution_count": 35,
   "metadata": {},
   "outputs": [],
   "source": [
    "import matplotlib.pyplot as plt\n",
    "def plot_model_history(model_history):\n",
    "    \"\"\"\n",
    "    Plot Accuracy and Loss curves given the model_history\n",
    "    \"\"\"\n",
    "    fig, axs = plt.subplots(1,2,figsize=(15,5))\n",
    "    \n",
    "    # summarize history for accuracy\n",
    "    axs[0].plot(range(1,len(model_history.history['acc'])+1),model_history.history['acc'])\n",
    "    axs[0].plot(range(1,len(model_history.history['val_acc'])+1),model_history.history['val_acc'])\n",
    "    axs[0].set_title('Model Accuracy')\n",
    "    axs[0].set_ylabel('Accuracy')\n",
    "    axs[0].set_xlabel('Epoch')\n",
    "    axs[0].set_xticks(np.arange(1,len(model_history.history['acc'])+1),len(model_history.history['acc'])/10)\n",
    "    axs[0].legend(['train', 'val'], loc='best')\n",
    "    \n",
    "    # summarize history for loss\n",
    "    axs[1].plot(range(1,len(model_history.history['loss'])+1),model_history.history['loss'])\n",
    "    axs[1].plot(range(1,len(model_history.history['val_loss'])+1),model_history.history['val_loss'])\n",
    "    axs[1].set_title('Model Loss')\n",
    "    axs[1].set_ylabel('Loss')\n",
    "    axs[1].set_xlabel('Epoch')\n",
    "    axs[1].set_xticks(np.arange(1,len(model_history.history['loss'])+1),len(model_history.history['loss'])/10)\n",
    "    axs[1].legend(['train', 'val'], loc='best')\n",
    "    fig.savefig('plot.png')\n",
    "    plt.show()"
   ]
  },
  {
   "cell_type": "code",
   "execution_count": 36,
   "metadata": {},
   "outputs": [
    {
     "data": {
      "image/png": "[encoded data removed]",
      "text/plain": [
       "<Figure size 1080x360 with 2 Axes>"
      ]
     },
     "metadata": {
      "needs_background": "light"
     },
     "output_type": "display_data"
    }
   ],
   "source": [
    "plot_model_history(model_info)"
   ]
  },
  {
   "cell_type": "code",
   "execution_count": 38,
   "metadata": {},
   "outputs": [],
   "source": [
    "model.load_weights('face_detection.h5')"
   ]
  },
  {
   "cell_type": "code",
   "execution_count": 12,
   "metadata": {},
   "outputs": [
    {
     "ename": "AttributeError",
     "evalue": "'numpy.ndarray' object has no attribute 'split'",
     "output_type": "error",
     "traceback": [
      "\u001b[1;31m---------------------------------------------------------------------------\u001b[0m",
      "\u001b[1;31mAttributeError\u001b[0m                            Traceback (most recent call last)",
      "\u001b[1;32m<ipython-input-12-95d23129a2fe>\u001b[0m in \u001b[0;36m<module>\u001b[1;34m\u001b[0m\n\u001b[0;32m     15\u001b[0m \u001b[1;33m\u001b[0m\u001b[0m\n\u001b[0;32m     16\u001b[0m     \u001b[0mfacecasc\u001b[0m \u001b[1;33m=\u001b[0m \u001b[0mcv2\u001b[0m\u001b[1;33m.\u001b[0m\u001b[0mCascadeClassifier\u001b[0m\u001b[1;33m(\u001b[0m\u001b[0mcv2\u001b[0m\u001b[1;33m.\u001b[0m\u001b[0mdata\u001b[0m\u001b[1;33m.\u001b[0m\u001b[0mhaarcascades\u001b[0m \u001b[1;33m+\u001b[0m \u001b[1;34m\"haarcascade_frontalface_default.xml\"\u001b[0m\u001b[1;33m)\u001b[0m\u001b[1;33m\u001b[0m\u001b[1;33m\u001b[0m\u001b[0m\n\u001b[1;32m---> 17\u001b[1;33m     \u001b[0mR\u001b[0m\u001b[1;33m,\u001b[0m\u001b[0mG\u001b[0m\u001b[1;33m,\u001b[0m\u001b[0mB\u001b[0m \u001b[1;33m=\u001b[0m \u001b[0mframe\u001b[0m\u001b[1;33m.\u001b[0m\u001b[0msplit\u001b[0m\u001b[1;33m(\u001b[0m\u001b[0mframe\u001b[0m\u001b[1;33m)\u001b[0m\u001b[1;33m\u001b[0m\u001b[1;33m\u001b[0m\u001b[0m\n\u001b[0m\u001b[0;32m     18\u001b[0m \u001b[1;33m\u001b[0m\u001b[0m\n\u001b[0;32m     19\u001b[0m     \u001b[0mfinal_frame\u001b[0m \u001b[1;33m=\u001b[0m \u001b[0mnp\u001b[0m\u001b[1;33m.\u001b[0m\u001b[0mzeros\u001b[0m\u001b[1;33m(\u001b[0m\u001b[0mframe\u001b[0m\u001b[1;33m.\u001b[0m\u001b[0mshape\u001b[0m\u001b[1;33m[\u001b[0m\u001b[1;33m:\u001b[0m\u001b[1;36m2\u001b[0m\u001b[1;33m]\u001b[0m \u001b[1;33m,\u001b[0m \u001b[0mdtype\u001b[0m\u001b[1;33m=\u001b[0m\u001b[1;34m'uint8'\u001b[0m\u001b[1;33m)\u001b[0m\u001b[1;33m\u001b[0m\u001b[1;33m\u001b[0m\u001b[0m\n",
      "\u001b[1;31mAttributeError\u001b[0m: 'numpy.ndarray' object has no attribute 'split'"
     ]
    }
   ],
   "source": [
    "import cv2\n",
    "\n",
    "mask_dict = {0 : 'with_mask' , 1 : 'without_mask'}\n",
    "\n",
    "cap = cv2.VideoCapture(0)\n",
    "\n",
    "fourcc = cv2.VideoWriter_fourcc(*'XVID') \n",
    "out = cv2.VideoWriter('output_new1.avi', fourcc, 20.0, (640, 480)) \n",
    "\n",
    "while True:\n",
    "    # Find haar cascade to draw bounding box around face\n",
    "    ret, frame = cap.read()\n",
    "    if not ret:\n",
    "        break\n",
    "        \n",
    "    facecasc = cv2.CascadeClassifier(cv2.data.haarcascades + \"haarcascade_frontalface_default.xml\")\n",
    "    R,G,B = frame.split(frame)\n",
    "    \n",
    "    final_frame = np.zeros(frame.shape[:2] , dtype='uint8')\n",
    "    "
   ]
  },
  {
   "cell_type": "code",
   "execution_count": 41,
   "metadata": {},
   "outputs": [],
   "source": [
    "import cv2\n",
    "\n",
    "mask_dict = {1 : 'with_mask' , 0 : 'without_mask'}\n",
    "\n",
    "cap = cv2.VideoCapture(0)\n",
    "\n",
    "fourcc = cv2.VideoWriter_fourcc(*'XVID') \n",
    "out = cv2.VideoWriter('output_new1.avi', fourcc, 20.0, (640, 480)) \n",
    "\n",
    "while True:\n",
    "    # Find haar cascade to draw bounding box around face\n",
    "    ret, frame = cap.read()\n",
    "    if not ret:\n",
    "        break\n",
    "        \n",
    "    \n",
    "    #facecasc = facecasc.load('haarcascade_frontalface_default.xml')\n",
    "    facecasc = cv2.CascadeClassifier(cv2.data.haarcascades + \"haarcascade_frontalface_default.xml\")\n",
    "    #gray = cv2.cvtColor(frame, cv2.COLOR_BGR2GRAY)\n",
    "    #colored = cv2.cvtColor(frame , cv2.COLOR_BGR2RGB)\n",
    "    faces = facecasc.detectMultiScale(frame,scaleFactor=1.3, minNeighbors=5)\n",
    "    \n",
    "    for (x, y, w, h) in faces:\n",
    "        \n",
    "        cv2.rectangle(frame, (x, y-50), (x+w, y+h+10), (255, 0, 0), 2)\n",
    "        #roi_gray = gray[y:y + h, x:x + w]\n",
    "        #roi_colored = cv2.cvtColor(roi_gray , cv2.COLOR_GRAY2RGB)\n",
    "        final_frame = frame[y:y + h, x:x + w]\n",
    "        final_frame = cv2.cvtColor(final_frame , cv2.COLOR_BGR2RGB)\n",
    "        \n",
    "       # print(roi_gray.shape)\n",
    "        #cropped_img = np.expand_dims(np.expand_dims(cv2.resize(final_frame, (64, 64)), -1), 0)\n",
    "        cropped_img = np.expand_dims(cv2.resize(final_frame, (64, 64)), 0)\n",
    "        \n",
    "        #print(cropped_img.shape)\n",
    "        #cropped_img = np.expand_dims(cv2.resize(roi_gray, (64, 64)), 0)\n",
    "        #print(cropped_img.shape)\n",
    "        \n",
    "        #cropped_img = np.expand_dims(cv2.resize(roi_colored , (64,64)), axis = -1)\n",
    "        #cropped_img = np.expand_dims(cropped_img , axis = 0)\n",
    "       # cropped_img = cv2.cvtColor(cropped_img , cv2.COLOR_GRAY2RGB)\n",
    "        \n",
    "        #print(cropped_img.shape)\n",
    "        #cropped_img = np.expand_dims(cropped_img , axis =0 )\n",
    "        prediction = model.predict(cropped_img)\n",
    "        maxindex = int(np.argmax(prediction))\n",
    "        cv2.putText(frame , mask_dict[maxindex], (x+20, y-60), cv2.FONT_HERSHEY_SIMPLEX, 0.5, (255, 0, 0), 1, cv2.LINE_AA)\n",
    "        out.write(frame)\n",
    "\n",
    "    cv2.imshow('Video', cv2.resize(frame,(1600,960),interpolation = cv2.INTER_CUBIC))\n",
    "    if cv2.waitKey(1) & 0xFF == ord('q'):\n",
    "            break\n",
    "\n",
    "cap.release()\n",
    "out.release()\n",
    "cv2.destroyAllWindows()"
   ]
  },
  {
   "cell_type": "code",
   "execution_count": null,
   "metadata": {},
   "outputs": [],
   "source": []
  }
 ],
 "metadata": {
  "kernelspec": {
   "display_name": "Python 3",
   "language": "python",
   "name": "python3"
  },
  "language_info": {
   "codemirror_mode": {
    "name": "ipython",
    "version": 3
   },
   "file_extension": ".py",
   "mimetype": "text/x-python",
   "name": "python",
   "nbconvert_exporter": "python",
   "pygments_lexer": "ipython3",
   "version": "3.7.6"
  }
 },
 "nbformat": 4,
 "nbformat_minor": 4
}
